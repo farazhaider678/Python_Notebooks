{
  "nbformat": 4,
  "nbformat_minor": 0,
  "metadata": {
    "colab": {
      "name": "python_notebook1.ipyn",
      "provenance": [],
      "collapsed_sections": [],
      "authorship_tag": "ABX9TyPL0xGNSQ8ysVM9F0sZGrRe",
      "include_colab_link": true
    },
    "kernelspec": {
      "name": "python3",
      "display_name": "Python 3"
    },
    "language_info": {
      "name": "python"
    }
  },
  "cells": [
    {
      "cell_type": "markdown",
      "metadata": {
        "id": "view-in-github",
        "colab_type": "text"
      },
      "source": [
        "<a href=\"https://colab.research.google.com/github/farazhaider678/Python_Notebooks/blob/main/python_notebook1_ipyn.ipynb\" target=\"_parent\"><img src=\"https://colab.research.google.com/assets/colab-badge.svg\" alt=\"Open In Colab\"/></a>"
      ]
    },
    {
      "cell_type": "code",
      "execution_count": 3,
      "metadata": {
        "id": "ASi5DfNcZ9Yz"
      },
      "outputs": [],
      "source": [
        "a = \"Hello World!\""
      ]
    },
    {
      "cell_type": "code",
      "source": [
        "a"
      ],
      "metadata": {
        "colab": {
          "base_uri": "https://localhost:8080/",
          "height": 35
        },
        "id": "0HL1dkfmj7gs",
        "outputId": "2e2709e8-70f2-434c-83c3-638add0f9286"
      },
      "execution_count": 4,
      "outputs": [
        {
          "output_type": "execute_result",
          "data": {
            "text/plain": [
              "'Hello World!'"
            ],
            "application/vnd.google.colaboratory.intrinsic+json": {
              "type": "string"
            }
          },
          "metadata": {},
          "execution_count": 4
        }
      ]
    },
    {
      "cell_type": "code",
      "source": [
        "print(a)"
      ],
      "metadata": {
        "colab": {
          "base_uri": "https://localhost:8080/"
        },
        "id": "Qsg5nT5lj-4n",
        "outputId": "7a1edede-381b-43da-ae61-4ab6b48aff23"
      },
      "execution_count": 5,
      "outputs": [
        {
          "output_type": "stream",
          "name": "stdout",
          "text": [
            "Hello World!\n"
          ]
        }
      ]
    },
    {
      "cell_type": "code",
      "source": [
        ""
      ],
      "metadata": {
        "id": "rI_lf0VckGen"
      },
      "execution_count": null,
      "outputs": []
    },
    {
      "cell_type": "code",
      "source": [
        "a = 10"
      ],
      "metadata": {
        "id": "-7oTSxVQp7nj"
      },
      "execution_count": 6,
      "outputs": []
    },
    {
      "cell_type": "code",
      "source": [
        "b = 20"
      ],
      "metadata": {
        "id": "dLYtCHWcp-Sp"
      },
      "execution_count": 7,
      "outputs": []
    },
    {
      "cell_type": "code",
      "source": [
        "c = a + b"
      ],
      "metadata": {
        "id": "fT_xqsgKqASv"
      },
      "execution_count": 8,
      "outputs": []
    },
    {
      "cell_type": "code",
      "source": [
        "print(c)"
      ],
      "metadata": {
        "colab": {
          "base_uri": "https://localhost:8080/"
        },
        "id": "CQfC8ifNqCZt",
        "outputId": "6c1a8177-a242-4020-b5fc-d2e8bb5b6955"
      },
      "execution_count": 9,
      "outputs": [
        {
          "output_type": "stream",
          "name": "stdout",
          "text": [
            "30\n"
          ]
        }
      ]
    },
    {
      "cell_type": "code",
      "source": [
        "s = \"New York\""
      ],
      "metadata": {
        "id": "RBfNuSFnqEEo"
      },
      "execution_count": 10,
      "outputs": []
    },
    {
      "cell_type": "code",
      "source": [
        "print(type(s))"
      ],
      "metadata": {
        "colab": {
          "base_uri": "https://localhost:8080/"
        },
        "id": "IFqWLzfKssIf",
        "outputId": "17f00d95-db98-4849-93ee-fae60320af55"
      },
      "execution_count": 11,
      "outputs": [
        {
          "output_type": "stream",
          "name": "stdout",
          "text": [
            "<class 'str'>\n"
          ]
        }
      ]
    },
    {
      "cell_type": "code",
      "source": [
        "print(len(s))"
      ],
      "metadata": {
        "colab": {
          "base_uri": "https://localhost:8080/"
        },
        "id": "GVlc1hsIsu9e",
        "outputId": "24fca28d-5943-464c-9cac-cd1164466387"
      },
      "execution_count": 12,
      "outputs": [
        {
          "output_type": "stream",
          "name": "stdout",
          "text": [
            "8\n"
          ]
        }
      ]
    },
    {
      "cell_type": "code",
      "source": [
        "print(s)"
      ],
      "metadata": {
        "colab": {
          "base_uri": "https://localhost:8080/"
        },
        "id": "I6JM5u7OsyAD",
        "outputId": "e8452e4f-8401-4725-fcad-e7644588156d"
      },
      "execution_count": 13,
      "outputs": [
        {
          "output_type": "stream",
          "name": "stdout",
          "text": [
            "New York\n"
          ]
        }
      ]
    },
    {
      "cell_type": "code",
      "source": [
        "# Concatenate 2 Strings\n",
        "a = \"I Love \"\n",
        "b = \"ICE CREAM\"\n",
        "print(a + b)"
      ],
      "metadata": {
        "colab": {
          "base_uri": "https://localhost:8080/"
        },
        "id": "F5dT-sZKs1Pn",
        "outputId": "afcf510f-7b8e-454f-9549-bbcc5a97e391"
      },
      "execution_count": 14,
      "outputs": [
        {
          "output_type": "stream",
          "name": "stdout",
          "text": [
            "I Love ICE CREAM\n"
          ]
        }
      ]
    },
    {
      "cell_type": "code",
      "source": [
        "# Getting character at given position\n",
        "print(b[2])"
      ],
      "metadata": {
        "colab": {
          "base_uri": "https://localhost:8080/"
        },
        "id": "usR8GYXUtJYi",
        "outputId": "6b371558-8b53-4c94-8736-eaa40b815973"
      },
      "execution_count": 15,
      "outputs": [
        {
          "output_type": "stream",
          "name": "stdout",
          "text": [
            "E\n"
          ]
        }
      ]
    },
    {
      "cell_type": "code",
      "source": [
        "# Swapping 2 variables using the 3 variable\n",
        "first = \"FIRST\"\n",
        "second = \"SECOND\"\n",
        "print(\"BEFORE\")\n",
        "print(first + \" \" + second)\n",
        "temp = first\n",
        "first = second\n",
        "second = temp\n",
        "print(\"AFTER\")\n",
        "print(first + \" \" + second)"
      ],
      "metadata": {
        "colab": {
          "base_uri": "https://localhost:8080/"
        },
        "id": "6rn7sndutrO7",
        "outputId": "79799e04-e645-4ceb-9268-e5b750b7f401"
      },
      "execution_count": 16,
      "outputs": [
        {
          "output_type": "stream",
          "name": "stdout",
          "text": [
            "BEFORE\n",
            "FIRST SECOND\n",
            "AFTER\n",
            "SECOND FIRST\n"
          ]
        }
      ]
    },
    {
      "cell_type": "code",
      "source": [
        "# Swapping without using third variable\n",
        "first = \"FIRST\"\n",
        "second = \"SECOND\"\n",
        "print(\"BEFORE\")\n",
        "print(first + \" \" + second)\n",
        "first, second = second, first\n",
        "print(\"AFTER\")\n",
        "print(first + \" \" + second)"
      ],
      "metadata": {
        "colab": {
          "base_uri": "https://localhost:8080/"
        },
        "id": "vDTJDkQ5uhRK",
        "outputId": "beab6a83-271b-4f10-bd57-053170d7b446"
      },
      "execution_count": 17,
      "outputs": [
        {
          "output_type": "stream",
          "name": "stdout",
          "text": [
            "BEFORE\n",
            "FIRST SECOND\n",
            "AFTER\n",
            "SECOND FIRST\n"
          ]
        }
      ]
    },
    {
      "cell_type": "code",
      "source": [
        "# Printing Option - 1\n",
        "name = \"Faraz\"\n",
        "age = \"33\"\n",
        "course = \"Master of Science\"\n",
        "location = \"UPGRAD\"\n",
        "print(\"My name is {}. I am {} years old. I am pursuing {} from {}.\".format(name, age, course, location))"
      ],
      "metadata": {
        "colab": {
          "base_uri": "https://localhost:8080/"
        },
        "id": "AQHgaV24u5oO",
        "outputId": "dc64d6bf-af99-4a79-dcff-d91c4f091da8"
      },
      "execution_count": 19,
      "outputs": [
        {
          "output_type": "stream",
          "name": "stdout",
          "text": [
            "My name is Faraz. I am 33 years old. I am pursuing Master of Science from UPGRAD.\n"
          ]
        }
      ]
    },
    {
      "cell_type": "code",
      "source": [
        "# Printlng Option - 2\n",
        "name = \"Faraz\"\n",
        "age = \"33\"\n",
        "course = \"Master of Science\"\n",
        "location = \"UPGRAD\"\n",
        "print(f\"My name is {name}. I am {age} years old. I am pursuing {course} from {location}.\")"
      ],
      "metadata": {
        "colab": {
          "base_uri": "https://localhost:8080/"
        },
        "id": "JSmo0XRNwgwZ",
        "outputId": "b631d67d-7106-44d8-efad-4eba067fd87b"
      },
      "execution_count": 20,
      "outputs": [
        {
          "output_type": "stream",
          "name": "stdout",
          "text": [
            "My name is Faraz. I am 33 years old. I am pursuing Master of Science from UPGRAD.\n"
          ]
        }
      ]
    },
    {
      "cell_type": "code",
      "source": [
        "# Changing string to Capital\n",
        "a = \"Hello Brother!\"\n",
        "print(a.upper())"
      ],
      "metadata": {
        "colab": {
          "base_uri": "https://localhost:8080/"
        },
        "id": "Nkay1pRz9fuP",
        "outputId": "58ab9768-ee76-462a-bd5d-603117f65262"
      },
      "execution_count": 21,
      "outputs": [
        {
          "output_type": "stream",
          "name": "stdout",
          "text": [
            "HELLO BROTHER!\n"
          ]
        }
      ]
    },
    {
      "cell_type": "code",
      "source": [
        "# Changing String to Small\n",
        "a = \"HELLO BROTHER!\"\n",
        "print(a.lower())"
      ],
      "metadata": {
        "colab": {
          "base_uri": "https://localhost:8080/"
        },
        "id": "2wnK07vf_Dnl",
        "outputId": "444cafc4-4716-4c6f-8d93-96b1625550e9"
      },
      "execution_count": 22,
      "outputs": [
        {
          "output_type": "stream",
          "name": "stdout",
          "text": [
            "hello brother!\n"
          ]
        }
      ]
    },
    {
      "cell_type": "code",
      "source": [
        "# Taking Input from User\n",
        "name = input(\"Enter your name: \")\n",
        "print(f\"Your name is {name}\")"
      ],
      "metadata": {
        "colab": {
          "base_uri": "https://localhost:8080/"
        },
        "id": "7Tzq5Sg__QXi",
        "outputId": "444e39bd-dade-4f0e-eaaa-51f59708604f"
      },
      "execution_count": 23,
      "outputs": [
        {
          "output_type": "stream",
          "name": "stdout",
          "text": [
            "Enter your name: Faraz Haider\n",
            "Your name is Faraz Haider\n"
          ]
        }
      ]
    },
    {
      "cell_type": "code",
      "source": [
        "# Mini Challenge: Take name as input from user and print \"Hello <name>!\"\n",
        "name = input(\"Whats your name: \")\n",
        "print(f\"Hello {name}!\")"
      ],
      "metadata": {
        "colab": {
          "base_uri": "https://localhost:8080/"
        },
        "id": "y9RbCwSJDKFq",
        "outputId": "7e71a6d3-dab7-4261-8d46-15db206096ff"
      },
      "execution_count": 24,
      "outputs": [
        {
          "output_type": "stream",
          "name": "stdout",
          "text": [
            "Enter your name: Faraz Haider\n",
            "Hello Faraz Haider!\n"
          ]
        }
      ]
    },
    {
      "cell_type": "code",
      "source": [
        "# Using Membership operator \"in\"\n",
        "vanila = \"vanila\"\n",
        "in_check = vanila in [\"vanila\", \"strawberry\"]\n",
        "print(\"IN CHECK: \" + str(in_check)) # Casting to String\n",
        "# Using Membership operator \"not in\"\n",
        "butter_scoth = \"butter scotch\"\n",
        "not_in_check = butter_scoth not in [\"vanila\", \"strawberry\"]\n",
        "print(\"NOT IN CHECK: \" + str(not_in_check)) # Casting to String"
      ],
      "metadata": {
        "colab": {
          "base_uri": "https://localhost:8080/"
        },
        "id": "Mq1WPuSDDp8Q",
        "outputId": "3a99633d-2e0f-4866-b01e-ddc9a265ba2b"
      },
      "execution_count": 37,
      "outputs": [
        {
          "output_type": "stream",
          "name": "stdout",
          "text": [
            "IN CHECK: True\n",
            "NOT IN CHECK: True\n"
          ]
        }
      ]
    },
    {
      "cell_type": "code",
      "source": [
        ""
      ],
      "metadata": {
        "id": "0ya4C_AFFPnY"
      },
      "execution_count": null,
      "outputs": []
    }
  ]
}