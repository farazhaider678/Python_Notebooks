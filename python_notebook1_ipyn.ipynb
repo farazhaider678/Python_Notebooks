{
  "nbformat": 4,
  "nbformat_minor": 0,
  "metadata": {
    "colab": {
      "name": "python_notebook1.ipyn",
      "provenance": [],
      "collapsed_sections": [],
      "authorship_tag": "ABX9TyOwAKHX9YJQT39I/dagtRqA",
      "include_colab_link": true
    },
    "kernelspec": {
      "name": "python3",
      "display_name": "Python 3"
    },
    "language_info": {
      "name": "python"
    }
  },
  "cells": [
    {
      "cell_type": "markdown",
      "metadata": {
        "id": "view-in-github",
        "colab_type": "text"
      },
      "source": [
        "<a href=\"https://colab.research.google.com/github/farazhaider678/Python_Notebooks/blob/main/python_notebook1_ipyn.ipynb\" target=\"_parent\"><img src=\"https://colab.research.google.com/assets/colab-badge.svg\" alt=\"Open In Colab\"/></a>"
      ]
    },
    {
      "cell_type": "code",
      "execution_count": 3,
      "metadata": {
        "id": "ASi5DfNcZ9Yz"
      },
      "outputs": [],
      "source": [
        "a = \"Hello World!\""
      ]
    },
    {
      "cell_type": "code",
      "source": [
        "a"
      ],
      "metadata": {
        "colab": {
          "base_uri": "https://localhost:8080/",
          "height": 35
        },
        "id": "0HL1dkfmj7gs",
        "outputId": "2e2709e8-70f2-434c-83c3-638add0f9286"
      },
      "execution_count": 4,
      "outputs": [
        {
          "output_type": "execute_result",
          "data": {
            "text/plain": [
              "'Hello World!'"
            ],
            "application/vnd.google.colaboratory.intrinsic+json": {
              "type": "string"
            }
          },
          "metadata": {},
          "execution_count": 4
        }
      ]
    },
    {
      "cell_type": "code",
      "source": [
        "print(a)"
      ],
      "metadata": {
        "colab": {
          "base_uri": "https://localhost:8080/"
        },
        "id": "Qsg5nT5lj-4n",
        "outputId": "7a1edede-381b-43da-ae61-4ab6b48aff23"
      },
      "execution_count": 5,
      "outputs": [
        {
          "output_type": "stream",
          "name": "stdout",
          "text": [
            "Hello World!\n"
          ]
        }
      ]
    },
    {
      "cell_type": "code",
      "source": [
        ""
      ],
      "metadata": {
        "id": "rI_lf0VckGen"
      },
      "execution_count": null,
      "outputs": []
    },
    {
      "cell_type": "code",
      "source": [
        "a = 10"
      ],
      "metadata": {
        "id": "-7oTSxVQp7nj"
      },
      "execution_count": 6,
      "outputs": []
    },
    {
      "cell_type": "code",
      "source": [
        "b = 20"
      ],
      "metadata": {
        "id": "dLYtCHWcp-Sp"
      },
      "execution_count": 7,
      "outputs": []
    },
    {
      "cell_type": "code",
      "source": [
        "c = a + b"
      ],
      "metadata": {
        "id": "fT_xqsgKqASv"
      },
      "execution_count": 8,
      "outputs": []
    },
    {
      "cell_type": "code",
      "source": [
        "print(c)"
      ],
      "metadata": {
        "colab": {
          "base_uri": "https://localhost:8080/"
        },
        "id": "CQfC8ifNqCZt",
        "outputId": "6c1a8177-a242-4020-b5fc-d2e8bb5b6955"
      },
      "execution_count": 9,
      "outputs": [
        {
          "output_type": "stream",
          "name": "stdout",
          "text": [
            "30\n"
          ]
        }
      ]
    },
    {
      "cell_type": "code",
      "source": [
        "s = \"New York\""
      ],
      "metadata": {
        "id": "RBfNuSFnqEEo"
      },
      "execution_count": 10,
      "outputs": []
    },
    {
      "cell_type": "code",
      "source": [
        "print(type(s))"
      ],
      "metadata": {
        "colab": {
          "base_uri": "https://localhost:8080/"
        },
        "id": "IFqWLzfKssIf",
        "outputId": "17f00d95-db98-4849-93ee-fae60320af55"
      },
      "execution_count": 11,
      "outputs": [
        {
          "output_type": "stream",
          "name": "stdout",
          "text": [
            "<class 'str'>\n"
          ]
        }
      ]
    },
    {
      "cell_type": "code",
      "source": [
        "print(len(s))"
      ],
      "metadata": {
        "colab": {
          "base_uri": "https://localhost:8080/"
        },
        "id": "GVlc1hsIsu9e",
        "outputId": "24fca28d-5943-464c-9cac-cd1164466387"
      },
      "execution_count": 12,
      "outputs": [
        {
          "output_type": "stream",
          "name": "stdout",
          "text": [
            "8\n"
          ]
        }
      ]
    },
    {
      "cell_type": "code",
      "source": [
        "print(s)"
      ],
      "metadata": {
        "colab": {
          "base_uri": "https://localhost:8080/"
        },
        "id": "I6JM5u7OsyAD",
        "outputId": "e8452e4f-8401-4725-fcad-e7644588156d"
      },
      "execution_count": 13,
      "outputs": [
        {
          "output_type": "stream",
          "name": "stdout",
          "text": [
            "New York\n"
          ]
        }
      ]
    },
    {
      "cell_type": "code",
      "source": [
        "# Concatenate 2 Strings\n",
        "a = \"I Love \"\n",
        "b = \"ICE CREAM\"\n",
        "print(a + b)"
      ],
      "metadata": {
        "colab": {
          "base_uri": "https://localhost:8080/"
        },
        "id": "F5dT-sZKs1Pn",
        "outputId": "afcf510f-7b8e-454f-9549-bbcc5a97e391"
      },
      "execution_count": 14,
      "outputs": [
        {
          "output_type": "stream",
          "name": "stdout",
          "text": [
            "I Love ICE CREAM\n"
          ]
        }
      ]
    },
    {
      "cell_type": "code",
      "source": [
        "# Getting character at given position\n",
        "print(b[2])"
      ],
      "metadata": {
        "colab": {
          "base_uri": "https://localhost:8080/"
        },
        "id": "usR8GYXUtJYi",
        "outputId": "6b371558-8b53-4c94-8736-eaa40b815973"
      },
      "execution_count": 15,
      "outputs": [
        {
          "output_type": "stream",
          "name": "stdout",
          "text": [
            "E\n"
          ]
        }
      ]
    },
    {
      "cell_type": "code",
      "source": [
        "# Swapping 2 variables using the 3 variable\n",
        "first = \"FIRST\"\n",
        "second = \"SECOND\"\n",
        "print(\"BEFORE\")\n",
        "print(first + \" \" + second)\n",
        "temp = first\n",
        "first = second\n",
        "second = temp\n",
        "print(\"AFTER\")\n",
        "print(first + \" \" + second)"
      ],
      "metadata": {
        "colab": {
          "base_uri": "https://localhost:8080/"
        },
        "id": "6rn7sndutrO7",
        "outputId": "79799e04-e645-4ceb-9268-e5b750b7f401"
      },
      "execution_count": 16,
      "outputs": [
        {
          "output_type": "stream",
          "name": "stdout",
          "text": [
            "BEFORE\n",
            "FIRST SECOND\n",
            "AFTER\n",
            "SECOND FIRST\n"
          ]
        }
      ]
    },
    {
      "cell_type": "code",
      "source": [
        "# Swapping without using third variable\n",
        "first = \"FIRST\"\n",
        "second = \"SECOND\"\n",
        "print(\"BEFORE\")\n",
        "print(first + \" \" + second)\n",
        "first, second = second, first\n",
        "print(\"AFTER\")\n",
        "print(first + \" \" + second)"
      ],
      "metadata": {
        "colab": {
          "base_uri": "https://localhost:8080/"
        },
        "id": "vDTJDkQ5uhRK",
        "outputId": "beab6a83-271b-4f10-bd57-053170d7b446"
      },
      "execution_count": 17,
      "outputs": [
        {
          "output_type": "stream",
          "name": "stdout",
          "text": [
            "BEFORE\n",
            "FIRST SECOND\n",
            "AFTER\n",
            "SECOND FIRST\n"
          ]
        }
      ]
    },
    {
      "cell_type": "code",
      "source": [
        "# Printing Option - 1\n",
        "name = \"Faraz\"\n",
        "age = \"33\"\n",
        "course = \"Master of Science\"\n",
        "location = \"UPGRAD\"\n",
        "print(\"My name is {}. I am {} years old. I am pursuing {} from {}.\".format(name, age, course, location))"
      ],
      "metadata": {
        "colab": {
          "base_uri": "https://localhost:8080/"
        },
        "id": "AQHgaV24u5oO",
        "outputId": "dc64d6bf-af99-4a79-dcff-d91c4f091da8"
      },
      "execution_count": 19,
      "outputs": [
        {
          "output_type": "stream",
          "name": "stdout",
          "text": [
            "My name is Faraz. I am 33 years old. I am pursuing Master of Science from UPGRAD.\n"
          ]
        }
      ]
    },
    {
      "cell_type": "code",
      "source": [
        "# Printlng Option - 2\n",
        "name = \"Faraz\"\n",
        "age = \"33\"\n",
        "course = \"Master of Science\"\n",
        "location = \"UPGRAD\"\n",
        "print(f\"My name is {name}. I am {age} years old. I am pursuing {course} from {location}.\")"
      ],
      "metadata": {
        "colab": {
          "base_uri": "https://localhost:8080/"
        },
        "id": "JSmo0XRNwgwZ",
        "outputId": "b631d67d-7106-44d8-efad-4eba067fd87b"
      },
      "execution_count": 20,
      "outputs": [
        {
          "output_type": "stream",
          "name": "stdout",
          "text": [
            "My name is Faraz. I am 33 years old. I am pursuing Master of Science from UPGRAD.\n"
          ]
        }
      ]
    },
    {
      "cell_type": "code",
      "source": [
        "# Changing string to Capital\n",
        "a = \"Hello Brother!\"\n",
        "print(a.upper())"
      ],
      "metadata": {
        "colab": {
          "base_uri": "https://localhost:8080/"
        },
        "id": "Nkay1pRz9fuP",
        "outputId": "58ab9768-ee76-462a-bd5d-603117f65262"
      },
      "execution_count": 21,
      "outputs": [
        {
          "output_type": "stream",
          "name": "stdout",
          "text": [
            "HELLO BROTHER!\n"
          ]
        }
      ]
    },
    {
      "cell_type": "code",
      "source": [
        "# Changing String to Small\n",
        "a = \"HELLO BROTHER!\"\n",
        "print(a.lower())"
      ],
      "metadata": {
        "colab": {
          "base_uri": "https://localhost:8080/"
        },
        "id": "2wnK07vf_Dnl",
        "outputId": "444cafc4-4716-4c6f-8d93-96b1625550e9"
      },
      "execution_count": 22,
      "outputs": [
        {
          "output_type": "stream",
          "name": "stdout",
          "text": [
            "hello brother!\n"
          ]
        }
      ]
    },
    {
      "cell_type": "code",
      "source": [
        "# Taking Input from User\n",
        "name = input(\"Enter your name: \")\n",
        "print(f\"Your name is {name}\")"
      ],
      "metadata": {
        "colab": {
          "base_uri": "https://localhost:8080/"
        },
        "id": "7Tzq5Sg__QXi",
        "outputId": "444e39bd-dade-4f0e-eaaa-51f59708604f"
      },
      "execution_count": 23,
      "outputs": [
        {
          "output_type": "stream",
          "name": "stdout",
          "text": [
            "Enter your name: Faraz Haider\n",
            "Your name is Faraz Haider\n"
          ]
        }
      ]
    },
    {
      "cell_type": "code",
      "source": [
        "# Mini Challenge: Take name as input from user and print \"Hello <name>!\"\n",
        "name = input(\"Whats your name: \")\n",
        "print(f\"Hello {name}!\")"
      ],
      "metadata": {
        "colab": {
          "base_uri": "https://localhost:8080/"
        },
        "id": "y9RbCwSJDKFq",
        "outputId": "7e71a6d3-dab7-4261-8d46-15db206096ff"
      },
      "execution_count": 24,
      "outputs": [
        {
          "output_type": "stream",
          "name": "stdout",
          "text": [
            "Enter your name: Faraz Haider\n",
            "Hello Faraz Haider!\n"
          ]
        }
      ]
    },
    {
      "cell_type": "code",
      "source": [
        "# Using Membership operator \"in\"\n",
        "vanila = \"vanila\"\n",
        "in_check = vanila in [\"vanila\", \"strawberry\"]\n",
        "print(\"IN CHECK: \" + str(in_check)) # Casting to String\n",
        "# Using Membership operator \"not in\"\n",
        "butter_scoth = \"butter scotch\"\n",
        "not_in_check = butter_scoth not in [\"vanila\", \"strawberry\"]\n",
        "print(\"NOT IN CHECK: \" + str(not_in_check)) # Casting to String"
      ],
      "metadata": {
        "colab": {
          "base_uri": "https://localhost:8080/"
        },
        "id": "Mq1WPuSDDp8Q",
        "outputId": "3a99633d-2e0f-4866-b01e-ddc9a265ba2b"
      },
      "execution_count": 37,
      "outputs": [
        {
          "output_type": "stream",
          "name": "stdout",
          "text": [
            "IN CHECK: True\n",
            "NOT IN CHECK: True\n"
          ]
        }
      ]
    },
    {
      "cell_type": "code",
      "source": [
        "x1, y1, x2, y2, d1, d2 = 7, 7, 'Hello', 'Hello', {'a':1, 'b':2}, {'a':1, 'b':2}\n",
        "x1_is_y1 = id(x1) is id(y1)\n",
        "print(\"x1_is_y1: \" + str(x1_is_y1))\n",
        "x2_is_y2 = x2 is y2\n",
        "print(\"x2_is_y2: \" + str(x2_is_y2))\n",
        "d1_is_d2 = d1 is d2\n",
        "print(\"d1_is_d2: \" + str(d1_is_d2))"
      ],
      "metadata": {
        "colab": {
          "base_uri": "https://localhost:8080/"
        },
        "id": "0ya4C_AFFPnY",
        "outputId": "0ff44093-60bf-4828-d71f-4c8a6ff85e11"
      },
      "execution_count": 10,
      "outputs": [
        {
          "output_type": "stream",
          "name": "stdout",
          "text": [
            "x1_is_y1: False\n",
            "x2_is_y2: True\n",
            "d1_is_d2: False\n"
          ]
        }
      ]
    },
    {
      "cell_type": "code",
      "source": [
        "# Create list of integers\n",
        "my_list = {1,2,3}\n",
        "print(my_list)\n",
        "# Create list of random type values\n",
        "my_list = {'A string',23,100.232,'o'}\n",
        "print(my_list)\n",
        "# Print length of the list\n",
        "len(my_list)"
      ],
      "metadata": {
        "colab": {
          "base_uri": "https://localhost:8080/"
        },
        "id": "9E_GIisjj06i",
        "outputId": "4b2a393d-6ab1-4ea3-f7ed-0d64d4886031"
      },
      "execution_count": 2,
      "outputs": [
        {
          "output_type": "stream",
          "name": "stdout",
          "text": [
            "{1, 2, 3}\n",
            "{'o', 'A string', 100.232, 23}\n"
          ]
        },
        {
          "output_type": "execute_result",
          "data": {
            "text/plain": [
              "4"
            ]
          },
          "metadata": {},
          "execution_count": 2
        }
      ]
    },
    {
      "cell_type": "code",
      "source": [
        "# Declare and define a list\n",
        "my_list = [\"one\", \"two\", \"three\", 4, 5]\n",
        "# Print the list\n",
        "print(my_list)\n",
        "# Get 0th Element of the list\n",
        "print(my_list[0])\n",
        "# Print all elements of the list\n",
        "print(my_list[:])\n",
        "# Print first 3 elements of the list\n",
        "print(my_list[:3])\n",
        "# Print last 3 elements of the list\n",
        "print(my_list[2:])\n",
        "# Print element at 3rd position\n",
        "print(my_list[2])\n",
        "# Adding one list to another list\n",
        "new_list = [\"six\", \"seven\", \"eight\", 9, 10]\n",
        "full_list = my_list + new_list\n",
        "print(full_list)"
      ],
      "metadata": {
        "colab": {
          "base_uri": "https://localhost:8080/"
        },
        "id": "S9umy7pFNBfj",
        "outputId": "6af208ba-3d89-4cae-cd80-3b50862b2ca1"
      },
      "execution_count": 7,
      "outputs": [
        {
          "output_type": "stream",
          "name": "stdout",
          "text": [
            "['one', 'two', 'three', 4, 5]\n",
            "one\n",
            "['one', 'two', 'three', 4, 5]\n",
            "['one', 'two', 'three']\n",
            "['three', 4, 5]\n",
            "three\n",
            "['one', 'two', 'three', 4, 5, 'six', 'seven', 'eight', 9, 10]\n"
          ]
        }
      ]
    },
    {
      "cell_type": "code",
      "source": [
        "# Create a list of 10 numbers\n",
        "num_list = list(range(10))\n",
        "print(num_list)\n",
        "# Print elements from 4 to 7\n",
        "print(num_list[4:7])\n",
        "# Print alternate elements from start\n",
        "print(num_list[::2])\n",
        "# Print every 3rd elemrnt starting from 1\n",
        "print(num_list[1::3])\n",
        "# Print odd indices upto 7\n",
        "print(num_list[1:7:2])"
      ],
      "metadata": {
        "colab": {
          "base_uri": "https://localhost:8080/"
        },
        "id": "gBohRBNjomOn",
        "outputId": "a169c364-7c8c-4941-8b75-87f82bf13c3a"
      },
      "execution_count": 17,
      "outputs": [
        {
          "output_type": "stream",
          "name": "stdout",
          "text": [
            "[0, 1, 2, 3, 4, 5, 6, 7, 8, 9]\n",
            "[4, 5, 6]\n",
            "[0, 2, 4, 6, 8]\n",
            "[1, 4, 7]\n",
            "[1, 3, 5]\n"
          ]
        }
      ]
    },
    {
      "cell_type": "code",
      "source": [
        "# Create a Dictionary\n",
        "my_dict = {\"key1\": \"value1\", \"key2\" : \"value2\", \"key3\" : \"value3\"}\n",
        "# Access value by keys\n",
        "print(my_dict[\"key1\"])\n",
        "print(my_dict[\"key2\"])\n",
        "print(my_dict[\"key3\"])\n",
        "# Print all keys\n",
        "print(my_dict.keys())\n",
        "# Print all values\n",
        "print(my_dict.values())"
      ],
      "metadata": {
        "colab": {
          "base_uri": "https://localhost:8080/"
        },
        "id": "og-FZW4Sq8DV",
        "outputId": "f6f0246f-02d5-4d01-e942-5aa3b0056ee4"
      },
      "execution_count": 25,
      "outputs": [
        {
          "output_type": "stream",
          "name": "stdout",
          "text": [
            "value1\n",
            "value2\n",
            "value3\n",
            "dict_keys(['key1', 'key2', 'key3'])\n",
            "dict_values(['value1', 'value2', 'value3'])\n"
          ]
        }
      ]
    },
    {
      "cell_type": "code",
      "source": [
        "# Create Tuple\n",
        "my_tuple = (\"one\", \"two\", \"three\", 4, 5)\n",
        "# Print Tuple\n",
        "print(my_tuple)\n",
        "# Type\n",
        "print(type(my_tuple))\n",
        "# Print 3rd element of the tuple\n",
        "print(my_tuple[2])\n",
        "# Create new tuple\n",
        "my_tuple2 = (\"six\", \"seven\", \"eight\", 9, 10)\n",
        "# Add 2 tuples and store in a new tuple type variable mhy_tuple3\n",
        "my_tuple3 = my_tuple + my_tuple2\n",
        "# Printing all values of My_tuple3\n",
        "print(my_tuple3)"
      ],
      "metadata": {
        "colab": {
          "base_uri": "https://localhost:8080/"
        },
        "id": "_j7f581KtdT2",
        "outputId": "9e115db0-83a7-4144-d985-1bae8a21b210"
      },
      "execution_count": 30,
      "outputs": [
        {
          "output_type": "stream",
          "name": "stdout",
          "text": [
            "('one', 'two', 'three', 4, 5)\n",
            "<class 'tuple'>\n",
            "three\n",
            "('one', 'two', 'three', 4, 5, 'six', 'seven', 'eight', 9, 10)\n"
          ]
        }
      ]
    },
    {
      "cell_type": "code",
      "source": [
        ""
      ],
      "metadata": {
        "id": "MJZ7QeIEyA43"
      },
      "execution_count": null,
      "outputs": []
    }
  ]
}