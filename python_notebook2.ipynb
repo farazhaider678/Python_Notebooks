{
  "nbformat": 4,
  "nbformat_minor": 0,
  "metadata": {
    "colab": {
      "name": "python_notebook2.ipynb",
      "provenance": [],
      "collapsed_sections": [],
      "authorship_tag": "ABX9TyPdKWEUvnvOa57g1rpNcK/T",
      "include_colab_link": true
    },
    "kernelspec": {
      "name": "python3",
      "display_name": "Python 3"
    },
    "language_info": {
      "name": "python"
    }
  },
  "cells": [
    {
      "cell_type": "markdown",
      "metadata": {
        "id": "view-in-github",
        "colab_type": "text"
      },
      "source": [
        "<a href=\"https://colab.research.google.com/github/farazhaider678/Python_Notebooks/blob/main/python_notebook2.ipynb\" target=\"_parent\"><img src=\"https://colab.research.google.com/assets/colab-badge.svg\" alt=\"Open In Colab\"/></a>"
      ]
    },
    {
      "cell_type": "code",
      "execution_count": 4,
      "metadata": {
        "colab": {
          "base_uri": "https://localhost:8080/"
        },
        "id": "zqMgWNk6KVFY",
        "outputId": "7ee4e510-08b9-40ee-8800-253bcb8d4028"
      },
      "outputs": [
        {
          "output_type": "stream",
          "name": "stdout",
          "text": [
            "Enter a number:0\n",
            "0 is a None number.\n"
          ]
        }
      ],
      "source": [
        "n = int(input(\"Enter a number:\"))\n",
        "if (n == 0):\n",
        "  condition = None\n",
        "elif (n>0):\n",
        "  condition = \"Positive\"\n",
        "else:\n",
        "  condition = \"Negative\"\n",
        "print(f\"{n} is a {condition} number.\")"
      ]
    },
    {
      "cell_type": "code",
      "source": [
        ""
      ],
      "metadata": {
        "id": "zcXr66rIS2x7"
      },
      "execution_count": null,
      "outputs": []
    }
  ]
}