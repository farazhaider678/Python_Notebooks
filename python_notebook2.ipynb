{
  "nbformat": 4,
  "nbformat_minor": 0,
  "metadata": {
    "colab": {
      "name": "python_notebook2.ipynb",
      "provenance": [],
      "collapsed_sections": [],
      "authorship_tag": "ABX9TyMiULrHt1BbgExP8v5qlCbb",
      "include_colab_link": true
    },
    "kernelspec": {
      "name": "python3",
      "display_name": "Python 3"
    },
    "language_info": {
      "name": "python"
    }
  },
  "cells": [
    {
      "cell_type": "markdown",
      "metadata": {
        "id": "view-in-github",
        "colab_type": "text"
      },
      "source": [
        "<a href=\"https://colab.research.google.com/github/farazhaider678/Python_Notebooks/blob/main/python_notebook2.ipynb\" target=\"_parent\"><img src=\"https://colab.research.google.com/assets/colab-badge.svg\" alt=\"Open In Colab\"/></a>"
      ]
    },
    {
      "cell_type": "code",
      "execution_count": null,
      "metadata": {
        "colab": {
          "base_uri": "https://localhost:8080/"
        },
        "id": "zqMgWNk6KVFY",
        "outputId": "aeed36fc-2d1b-4cdc-e309-db6274fa729b"
      },
      "outputs": [
        {
          "output_type": "stream",
          "name": "stdout",
          "text": [
            "Enter a number:67\n",
            "67 is a Positive number.\n"
          ]
        }
      ],
      "source": [
        "# Check if a number is Positive or Negative\n",
        "n = int(input(\"Enter a number:\"))\n",
        "if (n == 0): # This condition is to check for 0 value\n",
        "  condition = None\n",
        "elif (n > 0): # This condition is for Positive value\n",
        "  condition = \"Positive\"\n",
        "else: # This condition is for Negative value. Normally for Negative value n < 0\n",
        "  condition = \"Negative\"\n",
        "print(f\"{n} is a {condition} number.\")"
      ]
    },
    {
      "cell_type": "code",
      "source": [
        "# Get all Even numbers between 1 to 60 using for loop\n",
        "even = []\n",
        "for i in range(1, 61):\n",
        "  if (i % 2 == 0):\n",
        "    even.append(i)\n",
        "print(even)"
      ],
      "metadata": {
        "colab": {
          "base_uri": "https://localhost:8080/"
        },
        "id": "zcXr66rIS2x7",
        "outputId": "ec4491b4-e69d-4aee-9a52-f9db98ade212"
      },
      "execution_count": null,
      "outputs": [
        {
          "output_type": "stream",
          "name": "stdout",
          "text": [
            "[2, 4, 6, 8, 10, 12, 14, 16, 18, 20, 22, 24, 26, 28, 30, 32, 34, 36, 38, 40, 42, 44, 46, 48, 50, 52, 54, 56, 58, 60]\n"
          ]
        }
      ]
    },
    {
      "cell_type": "code",
      "source": [
        "# Get all Odd numbers between 1 to 60 using for loop\n",
        "odd = []\n",
        "for i in range(1, 61):\n",
        "  if (i % 2 == 1):\n",
        "    odd.append(i)\n",
        "print(odd)"
      ],
      "metadata": {
        "colab": {
          "base_uri": "https://localhost:8080/"
        },
        "id": "SK90quTcVn5P",
        "outputId": "22ef1e71-7e94-4aa9-e29e-ee9bd55fd724"
      },
      "execution_count": null,
      "outputs": [
        {
          "output_type": "stream",
          "name": "stdout",
          "text": [
            "[1, 3, 5, 7, 9, 11, 13, 15, 17, 19, 21, 23, 25, 27, 29, 31, 33, 35, 37, 39, 41, 43, 45, 47, 49, 51, 53, 55, 57, 59]\n"
          ]
        }
      ]
    },
    {
      "cell_type": "code",
      "source": [
        "# Get all numbers within the specified range which are divisible by 2 and 3\n",
        "n = int(input(\"Enter the last limit: \"))\n",
        "div_by_2_and_3 = []\n",
        "for i in range(1, n + 1):\n",
        "  if (i % 2 == 0 or i % 3 == 0):\n",
        "    div_by_2_and_3.append(i)\n",
        "print(div_by_2_and_3)\n"
      ],
      "metadata": {
        "colab": {
          "base_uri": "https://localhost:8080/"
        },
        "id": "AzWEJpf9WDRJ",
        "outputId": "a9ece2b5-9e3e-43a1-8eb4-aee563ca129b"
      },
      "execution_count": null,
      "outputs": [
        {
          "output_type": "stream",
          "name": "stdout",
          "text": [
            "Enter the last limit: 46\n",
            "[2, 3, 4, 6, 8, 9, 10, 12, 14, 15, 16, 18, 20, 21, 22, 24, 26, 27, 28, 30, 32, 33, 34, 36, 38, 39, 40, 42, 44, 45, 46]\n"
          ]
        }
      ]
    },
    {
      "cell_type": "code",
      "source": [
        "# Print the list of numbers with the power entered by user\n",
        "limit = int(input(\"Enter the limit: \"))\n",
        "power = int(input(\"Enter the Power: \"))\n",
        "for i in range(1, limit + 1):\n",
        "  print(f\"{i} to the power {power} is {i**power}\")"
      ],
      "metadata": {
        "colab": {
          "base_uri": "https://localhost:8080/"
        },
        "id": "ndihG6I6W-nz",
        "outputId": "875d1d81-9fda-484e-857e-594cccc8d5cf"
      },
      "execution_count": null,
      "outputs": [
        {
          "output_type": "stream",
          "name": "stdout",
          "text": [
            "Enter the limit: 10\n",
            "Enter the Power: 2\n",
            "1 to the power 2 is 1\n",
            "2 to the power 2 is 4\n",
            "3 to the power 2 is 9\n",
            "4 to the power 2 is 16\n",
            "5 to the power 2 is 25\n",
            "6 to the power 2 is 36\n",
            "7 to the power 2 is 49\n",
            "8 to the power 2 is 64\n",
            "9 to the power 2 is 81\n",
            "10 to the power 2 is 100\n"
          ]
        }
      ]
    },
    {
      "cell_type": "code",
      "source": [
        "# Fetch multiples of 20 between 1 and entered limit\n",
        "limit = int(input(\"Enter limit:\"))\n",
        "num = 1\n",
        "mult_20 = []\n",
        "while(num <= limit):\n",
        "  if (num % 20 == 0):\n",
        "    mult_20.append(num)\n",
        "  num = num + 1\n",
        "print(mult_20)"
      ],
      "metadata": {
        "colab": {
          "base_uri": "https://localhost:8080/"
        },
        "id": "RFyxjMDkYjZ8",
        "outputId": "2258ed33-3589-4e50-87aa-8777b66821ee"
      },
      "execution_count": null,
      "outputs": [
        {
          "output_type": "stream",
          "name": "stdout",
          "text": [
            "Enter limit:200\n",
            "[20, 40, 60, 80, 100, 120, 140, 160, 180, 200]\n"
          ]
        }
      ]
    },
    {
      "cell_type": "code",
      "source": [
        "# List Comprehensions\n",
        "names = [\"Papa\", \"Mummy\", \"Shehzad\", \"Moni\"]\n",
        "hello = [\"Hello \" + name + \"!\" for name in names]\n",
        "print(hello)"
      ],
      "metadata": {
        "colab": {
          "base_uri": "https://localhost:8080/"
        },
        "id": "tlR4VYPn1idP",
        "outputId": "0da8807d-a69d-4b15-843c-809d811178ac"
      },
      "execution_count": null,
      "outputs": [
        {
          "output_type": "stream",
          "name": "stdout",
          "text": [
            "['Hello Papa!', 'Hello Mummy!', 'Hello Shehzad!', 'Hello Moni!']\n"
          ]
        }
      ]
    },
    {
      "cell_type": "code",
      "source": [
        "aList = list(range(1,50))\n",
        "bList = [1,3,5,7,9,11,13,15,17,19,21,23,25,27,29,31,33,35,37,39,41,43,45,47,49]\n",
        "final = [num for num in aList if num not in bList]\n",
        "print(final)"
      ],
      "metadata": {
        "colab": {
          "base_uri": "https://localhost:8080/"
        },
        "id": "03BrA2E233Pu",
        "outputId": "abfa0005-247e-4976-8ce5-406663f9b0d4"
      },
      "execution_count": null,
      "outputs": [
        {
          "output_type": "stream",
          "name": "stdout",
          "text": [
            "[2, 4, 6, 8, 10, 12, 14, 16, 18, 20, 22, 24, 26, 28, 30, 32, 34, 36, 38, 40, 42, 44, 46, 48]\n"
          ]
        }
      ]
    },
    {
      "cell_type": "code",
      "source": [
        "# Function definition without any default value\n",
        "import math\n",
        "def square_root(a):\n",
        "  return math.sqrt(a)\n",
        "num = int(input(\"Enter a number\"))\n",
        "print(f\"The Square Root of {num} is {square_root(num)}.\")"
      ],
      "metadata": {
        "colab": {
          "base_uri": "https://localhost:8080/"
        },
        "id": "q0a2kWDu5QjR",
        "outputId": "4c855a73-e456-4d9e-bedd-3e2ea8eab24b"
      },
      "execution_count": null,
      "outputs": [
        {
          "output_type": "stream",
          "name": "stdout",
          "text": [
            "Enter a number23\n",
            "The Square Root of 23 is 4.795831523312719.\n"
          ]
        }
      ]
    },
    {
      "cell_type": "code",
      "source": [
        "# Function definition with default value\n",
        "import math\n",
        "def square_root_with_default_param(a = 9):\n",
        "  return math.sqrt(a)\n",
        "print(square_root_with_default_param())"
      ],
      "metadata": {
        "colab": {
          "base_uri": "https://localhost:8080/"
        },
        "id": "9Nd4RKoZ7iIf",
        "outputId": "fbc33805-2c0b-4418-f97f-d6f7ff46497a"
      },
      "execution_count": null,
      "outputs": [
        {
          "output_type": "stream",
          "name": "stdout",
          "text": [
            "3.0\n"
          ]
        }
      ]
    },
    {
      "cell_type": "code",
      "source": [
        "# Returning multiple values from single function\n",
        "def function_tuple(a = 5, b = 7):\n",
        "  return a+b,a*b\n",
        "print(function_tuple(20, 15))"
      ],
      "metadata": {
        "colab": {
          "base_uri": "https://localhost:8080/"
        },
        "id": "2Q527T3q8SBI",
        "outputId": "6f4db4b0-682f-46e8-d7d7-699cc8a47f72"
      },
      "execution_count": null,
      "outputs": [
        {
          "output_type": "stream",
          "name": "stdout",
          "text": [
            "(35, 300)\n"
          ]
        }
      ]
    },
    {
      "cell_type": "code",
      "source": [
        "# Calculating sum using lambda\n",
        "lambda_sum = lambda x,y:x+y\n",
        "print(lambda_sum(20, 30))"
      ],
      "metadata": {
        "colab": {
          "base_uri": "https://localhost:8080/"
        },
        "id": "R-5xZ6K7894g",
        "outputId": "c2f53356-88e7-4641-d3b7-8e2a91cf6d9e"
      },
      "execution_count": null,
      "outputs": [
        {
          "output_type": "stream",
          "name": "stdout",
          "text": [
            "50\n"
          ]
        }
      ]
    },
    {
      "cell_type": "code",
      "source": [
        "try:\n",
        "  x = 3/0\n",
        "except ZeroDivisionError:\n",
        "  print(\"Division by 0 caught\")\n",
        "else:\n",
        "  print(\"Other Exception\")\n",
        "finally:\n",
        "  print(\"No Matter what happens I will be printed\")"
      ],
      "metadata": {
        "colab": {
          "base_uri": "https://localhost:8080/"
        },
        "id": "Cbc42m3J-QXw",
        "outputId": "15db64bb-312b-41e9-b67d-56686fb74f1f"
      },
      "execution_count": null,
      "outputs": [
        {
          "output_type": "stream",
          "name": "stdout",
          "text": [
            "Division by 0 caught\n",
            "No Matter what happens I will be printed\n"
          ]
        }
      ]
    },
    {
      "cell_type": "code",
      "source": [
        "# Division with Exception Handling\n",
        "a = int(input(\"Enter first number: \"))\n",
        "b = int(input(\"Enter second number: \"))\n",
        "try:\n",
        "  quotient = a/b\n",
        "  print(f\"Quotient on dividing {a} with {b} is {quotient}\")\n",
        "except ZeroDivisionError:\n",
        "  print(\"Divisibility by 0 exception caught\")\n",
        "else:\n",
        "  print(\"No Exception found!\")"
      ],
      "metadata": {
        "colab": {
          "base_uri": "https://localhost:8080/"
        },
        "id": "zKUO87Cqw7EG",
        "outputId": "f42a7ccc-7271-43d8-cb41-2f2be7a6ebb2"
      },
      "execution_count": null,
      "outputs": [
        {
          "output_type": "stream",
          "name": "stdout",
          "text": [
            "Enter first number: 5\n",
            "Enter second number: 0\n",
            "Divisibility by 0 exception caught\n"
          ]
        }
      ]
    },
    {
      "cell_type": "code",
      "source": [
        "with open('myfile.txt', 'w') as f:\n",
        "  f.write(\"This is my first file!\")\n",
        "  f.write(\"\\nSecond Line\")\n",
        "  f.write(\"\\nThird Line\")\n",
        "\n",
        "  # To check if its actually created or not\n",
        "  import os\n",
        "  print(os.path.abspath(os.curdir))"
      ],
      "metadata": {
        "colab": {
          "base_uri": "https://localhost:8080/"
        },
        "id": "vuuLnBe5zWGI",
        "outputId": "aa1954e7-2f68-4203-d150-29c7efe92efe"
      },
      "execution_count": null,
      "outputs": [
        {
          "output_type": "stream",
          "name": "stdout",
          "text": [
            "/content\n"
          ]
        }
      ]
    },
    {
      "cell_type": "code",
      "source": [
        "class Circle(object):\n",
        "  \n",
        "  def __init__(self, radius):\n",
        "    self.radius = radius\n",
        "  \n",
        "  def area(self):\n",
        "    return 3.14 * self.radius**2\n",
        "  \n",
        "  def perimeter(self):\n",
        "    return 2 * 3.14 * self.radius\n",
        "  \n",
        "circle1 = Circle(float(input(\"Enter radius of first circle: \")))\n",
        "circle2 = Circle(float(input(\"Enter radius of second circle: \")))\n",
        "print(f\"Area of the First Circle: {circle1.area()} square unit\")\n",
        "print(f\"Area of the Second Circle: {circle2.area()} square unit\")\n",
        "print(f\"Perimeter of the First Circle: {circle1.perimeter()} unit\")\n",
        "print(f\"Perimeter of the Second Circle: {circle2.perimeter()} unit\")"
      ],
      "metadata": {
        "id": "9eKSUYz104e6",
        "colab": {
          "base_uri": "https://localhost:8080/"
        },
        "outputId": "a0220cff-1957-457b-dfef-f5abfb326b84"
      },
      "execution_count": 2,
      "outputs": [
        {
          "output_type": "stream",
          "name": "stdout",
          "text": [
            "Enter radius of first circle: 5\n",
            "Enter radius of second circle: 10\n",
            "Area of the First Circle: 78.5 square unit\n",
            "Area of the Second Circle: 314.0 square unit\n",
            "Perimeter of the First Circle: 31.400000000000002 unit\n",
            "Perimeter of the Second Circle: 62.800000000000004 unit\n"
          ]
        }
      ]
    }
  ]
}