{
  "nbformat": 4,
  "nbformat_minor": 0,
  "metadata": {
    "colab": {
      "name": "python_notebook2.ipynb",
      "provenance": [],
      "collapsed_sections": [],
      "authorship_tag": "ABX9TyOVSjFIITSBJqasf9tjDJWi",
      "include_colab_link": true
    },
    "kernelspec": {
      "name": "python3",
      "display_name": "Python 3"
    },
    "language_info": {
      "name": "python"
    }
  },
  "cells": [
    {
      "cell_type": "markdown",
      "metadata": {
        "id": "view-in-github",
        "colab_type": "text"
      },
      "source": [
        "<a href=\"https://colab.research.google.com/github/farazhaider678/Python_Notebooks/blob/main/python_notebook2.ipynb\" target=\"_parent\"><img src=\"https://colab.research.google.com/assets/colab-badge.svg\" alt=\"Open In Colab\"/></a>"
      ]
    },
    {
      "cell_type": "code",
      "execution_count": 5,
      "metadata": {
        "colab": {
          "base_uri": "https://localhost:8080/"
        },
        "id": "zqMgWNk6KVFY",
        "outputId": "aeed36fc-2d1b-4cdc-e309-db6274fa729b"
      },
      "outputs": [
        {
          "output_type": "stream",
          "name": "stdout",
          "text": [
            "Enter a number:67\n",
            "67 is a Positive number.\n"
          ]
        }
      ],
      "source": [
        "# Check if a number is Positive or Negative\n",
        "n = int(input(\"Enter a number:\"))\n",
        "if (n == 0): # This condition is to check for 0 value\n",
        "  condition = None\n",
        "elif (n > 0): # This condition is for Positive value\n",
        "  condition = \"Positive\"\n",
        "else: # This condition is for Negative value. Normally for Negative value n < 0\n",
        "  condition = \"Negative\"\n",
        "print(f\"{n} is a {condition} number.\")"
      ]
    },
    {
      "cell_type": "code",
      "source": [
        "# Get all Even numbers between 1 to 60 using for loop\n",
        "even = []\n",
        "for i in range(1, 61):\n",
        "  if (i % 2 == 0):\n",
        "    even.append(i)\n",
        "print(even)"
      ],
      "metadata": {
        "colab": {
          "base_uri": "https://localhost:8080/"
        },
        "id": "zcXr66rIS2x7",
        "outputId": "ec4491b4-e69d-4aee-9a52-f9db98ade212"
      },
      "execution_count": 7,
      "outputs": [
        {
          "output_type": "stream",
          "name": "stdout",
          "text": [
            "[2, 4, 6, 8, 10, 12, 14, 16, 18, 20, 22, 24, 26, 28, 30, 32, 34, 36, 38, 40, 42, 44, 46, 48, 50, 52, 54, 56, 58, 60]\n"
          ]
        }
      ]
    },
    {
      "cell_type": "code",
      "source": [
        "# Get all Odd numbers between 1 to 60 using for loop\n",
        "odd = []\n",
        "for i in range(1, 61):\n",
        "  if (i % 2 == 1):\n",
        "    odd.append(i)\n",
        "print(odd)"
      ],
      "metadata": {
        "colab": {
          "base_uri": "https://localhost:8080/"
        },
        "id": "SK90quTcVn5P",
        "outputId": "22ef1e71-7e94-4aa9-e29e-ee9bd55fd724"
      },
      "execution_count": 9,
      "outputs": [
        {
          "output_type": "stream",
          "name": "stdout",
          "text": [
            "[1, 3, 5, 7, 9, 11, 13, 15, 17, 19, 21, 23, 25, 27, 29, 31, 33, 35, 37, 39, 41, 43, 45, 47, 49, 51, 53, 55, 57, 59]\n"
          ]
        }
      ]
    },
    {
      "cell_type": "code",
      "source": [
        "# Get all numbers within the specified range which are divisible by 2 and 3\n",
        "n = int(input(\"Enter the last limit: \"))\n",
        "div_by_2_and_3 = []\n",
        "for i in range(1, n + 1):\n",
        "  if (i % 2 == 0 or i % 3 == 0):\n",
        "    div_by_2_and_3.append(i)\n",
        "print(div_by_2_and_3)\n"
      ],
      "metadata": {
        "colab": {
          "base_uri": "https://localhost:8080/"
        },
        "id": "AzWEJpf9WDRJ",
        "outputId": "a9ece2b5-9e3e-43a1-8eb4-aee563ca129b"
      },
      "execution_count": 11,
      "outputs": [
        {
          "output_type": "stream",
          "name": "stdout",
          "text": [
            "Enter the last limit: 46\n",
            "[2, 3, 4, 6, 8, 9, 10, 12, 14, 15, 16, 18, 20, 21, 22, 24, 26, 27, 28, 30, 32, 33, 34, 36, 38, 39, 40, 42, 44, 45, 46]\n"
          ]
        }
      ]
    },
    {
      "cell_type": "code",
      "source": [
        "# Print the list of numbers with the power entered by user\n",
        "limit = int(input(\"Enter the limit: \"))\n",
        "power = int(input(\"Enter the Power: \"))\n",
        "for i in range(1, limit + 1):\n",
        "  print(f\"{i} to the power {power} is {i**power}\")"
      ],
      "metadata": {
        "colab": {
          "base_uri": "https://localhost:8080/"
        },
        "id": "ndihG6I6W-nz",
        "outputId": "875d1d81-9fda-484e-857e-594cccc8d5cf"
      },
      "execution_count": 12,
      "outputs": [
        {
          "output_type": "stream",
          "name": "stdout",
          "text": [
            "Enter the limit: 10\n",
            "Enter the Power: 2\n",
            "1 to the power 2 is 1\n",
            "2 to the power 2 is 4\n",
            "3 to the power 2 is 9\n",
            "4 to the power 2 is 16\n",
            "5 to the power 2 is 25\n",
            "6 to the power 2 is 36\n",
            "7 to the power 2 is 49\n",
            "8 to the power 2 is 64\n",
            "9 to the power 2 is 81\n",
            "10 to the power 2 is 100\n"
          ]
        }
      ]
    },
    {
      "cell_type": "code",
      "source": [
        ""
      ],
      "metadata": {
        "id": "RFyxjMDkYjZ8"
      },
      "execution_count": null,
      "outputs": []
    }
  ]
}