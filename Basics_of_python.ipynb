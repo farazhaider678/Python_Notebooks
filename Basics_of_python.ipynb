{
  "nbformat": 4,
  "nbformat_minor": 0,
  "metadata": {
    "colab": {
      "name": "Basics_of_python.ipynb",
      "provenance": [],
      "collapsed_sections": [],
      "include_colab_link": true
    },
    "kernelspec": {
      "name": "python3",
      "display_name": "Python 3"
    }
  },
  "cells": [
    {
      "cell_type": "markdown",
      "metadata": {
        "id": "view-in-github",
        "colab_type": "text"
      },
      "source": [
        "<a href=\"https://colab.research.google.com/github/farazhaider678/Python_Notebooks/blob/main/Basics_of_python.ipynb\" target=\"_parent\"><img src=\"https://colab.research.google.com/assets/colab-badge.svg\" alt=\"Open In Colab\"/></a>"
      ]
    },
    {
      "cell_type": "markdown",
      "metadata": {
        "id": "e2CWWATVTFOQ"
      },
      "source": [
        "# Practice Exercise"
      ]
    },
    {
      "cell_type": "markdown",
      "metadata": {
        "id": "gxSUV29HVelr"
      },
      "source": [
        "Question 1: Let us start by printing the word \"Welcome to the practice exercise\" in python."
      ]
    },
    {
      "cell_type": "code",
      "metadata": {
        "id": "sn3vu-6dVsEP",
        "colab": {
          "base_uri": "https://localhost:8080/"
        },
        "outputId": "13ed1d4e-aebe-4272-c68f-a802661333fc"
      },
      "source": [
        "# Print the statement:\n",
        "print(\"Welcome to the practice exercise\")"
      ],
      "execution_count": 1,
      "outputs": [
        {
          "output_type": "stream",
          "name": "stdout",
          "text": [
            "Welcome to the practice exercise\n"
          ]
        }
      ]
    },
    {
      "cell_type": "markdown",
      "metadata": {
        "id": "Ys8qEL-HTMA1"
      },
      "source": [
        "Question 2: Create a string variable and print the string."
      ]
    },
    {
      "cell_type": "code",
      "metadata": {
        "id": "ypmiTaqjSu_C",
        "colab": {
          "base_uri": "https://localhost:8080/"
        },
        "outputId": "8cf96260-f42f-458f-c459-d54cbebe971e"
      },
      "source": [
        "# Create a string variable:\n",
        "var_str = \"Hello World!\"\n",
        "\n",
        "# Print the string:\n",
        "print(var_str)"
      ],
      "execution_count": 2,
      "outputs": [
        {
          "output_type": "stream",
          "name": "stdout",
          "text": [
            "Hello World!\n"
          ]
        }
      ]
    },
    {
      "cell_type": "markdown",
      "metadata": {
        "id": "SCtZJrEjUyLV"
      },
      "source": [
        "Question 3: Create a string by taking user input and print the string."
      ]
    },
    {
      "cell_type": "code",
      "metadata": {
        "id": "kuNOPj11TU10",
        "colab": {
          "base_uri": "https://localhost:8080/"
        },
        "outputId": "b19c6d1e-0ea1-4933-b80c-3eea62d2b86e"
      },
      "source": [
        "# Create a string variable taking user input:\n",
        "var_input = input(\"Enter String: \")\n",
        "\n",
        "# Print the string:\n",
        "print(var_input)"
      ],
      "execution_count": 4,
      "outputs": [
        {
          "output_type": "stream",
          "name": "stdout",
          "text": [
            "Enter String: Just Testing\n",
            "Just Testing\n"
          ]
        }
      ]
    },
    {
      "cell_type": "markdown",
      "metadata": {
        "id": "DImK3bXbVQmK"
      },
      "source": [
        "Question 4: Print the pattern given below:\n",
        "\n",
        "\n",
        "\n",
        "![image.png](data:image/png;base64,iVBORw0KGgoAAAANSUhEUgAAADIAAABFCAYAAAAIGLXIAAACvklEQVRoBe1abW7DIAzljJF6oSpXSY/SHWQ/egxPgA3GfAwxEO3kSVP4NLz3TGInNfBP/sw/wQEK5N2UVEVUkUUMqGstInbYrCoyTN2iiarIImKHzaoiPdS9HgcYY+D86hn9tzGLFHnBdTNwPC44PxmIVcKr8PxsINFJFEjkorO06IzQ6qoIMdF9VUWaVH2d7vlhnyH8f+XzZLEiTbhTOxXIVDonGFNFJpA41YQqMpXOCcZUkQkkTjWhikAShhxwfTOCvy84eHhyu+DFukORxtX6w8DfC4OK2PD8hCfa97l5rMtln3cD5k6jqdenw+f9BLMPCG0Gr45ZoQob4oAKIK7NArDKfgYQZJ6/SeHA3weI32jmOvwMCcatqx0PPDXvAsT5v9go8ypfdKDwDMmNy3o2ua9h8LB74w4EO/T1Je3NwZ8hPydNuCj5+kviNQykHwRAONglpFsVofs/f1bYMt2ZnCsx1luutxVIidnNbcOutXnf2fIKJKNkc4MqslmAbHlVJKNkc4MqslmAbPmqIj7rY2FG6aNmEqrExKoWGMag0H8AomDRyMAzsdv3VbgJJOQMGX4An7PHzZeGhDaeSEGeaDngFKeB+MqVzA0Ws8IgELuZThCA0W+y0XQuT4VLkbIF2iQVoP7jTGuwOtmxdMKFPwhwLlKNcGMuQjQmKQC6EbkdB0XjS23UR9emItGHWYhuZ2KYHoFW0t1MDVo22jCYcIUe6UoINKQIYWBaqAJJh4mNlnKIUpv0dzTqFCEFM1LQFSnXuV3wbHkH2uwEIvwcXSt5U1UAUvJ3kIzbjTgw7fdi5HopwbHWBwTljca8QtK1Yt0uIO4+tGZmCyBRiMbh1fWFG4XoZNUKEHQlklf6sTOQPgtSEO3N0RkLZ5DcrMMu23tSrABJxnxERYG8m0yqiCqyiAF1rUXEDpv9AT7GtDRI+0oLAAAAAElFTkSuQmCC)"
      ]
    },
    {
      "cell_type": "code",
      "metadata": {
        "id": "DkSe8TvcVPMK",
        "colab": {
          "base_uri": "https://localhost:8080/"
        },
        "outputId": "f24b1b2e-7f82-422f-9922-aff2fd4e480a"
      },
      "source": [
        "# Print the pattern shown in the question above:\n",
        "print(\"  1\\n 234\\n56789\")"
      ],
      "execution_count": 24,
      "outputs": [
        {
          "output_type": "stream",
          "name": "stdout",
          "text": [
            "  1\n",
            " 234\n",
            "56789\n"
          ]
        }
      ]
    },
    {
      "cell_type": "markdown",
      "metadata": {
        "id": "wmEibYOCXoUV"
      },
      "source": [
        "Question 5: Print the '#' symbol 15 times without having to type it for 15 times."
      ]
    },
    {
      "cell_type": "code",
      "metadata": {
        "id": "ca4yCx9OXfyt",
        "colab": {
          "base_uri": "https://localhost:8080/"
        },
        "outputId": "05da2e9d-9ffe-4eca-bf4b-801c50818b33"
      },
      "source": [
        "# Print the pattern shown in the question above:\n",
        "print(\"#\" * 15)"
      ],
      "execution_count": 5,
      "outputs": [
        {
          "output_type": "stream",
          "name": "stdout",
          "text": [
            "###############\n"
          ]
        }
      ]
    },
    {
      "cell_type": "markdown",
      "metadata": {
        "id": "pCh5QAyGYdWe"
      },
      "source": [
        "Question 6: Take the user input to print the current date"
      ]
    },
    {
      "cell_type": "code",
      "metadata": {
        "id": "uO-kTgb7XoJZ",
        "colab": {
          "base_uri": "https://localhost:8080/"
        },
        "outputId": "4efa5593-8115-41d5-a38b-2519accbdcc7"
      },
      "source": [
        "# Take the user input into a string:\n",
        "import datetime\n",
        "input_date = input(\"Enter date in dd/mm/yyyy format: \")\n",
        "date_formatted = datetime.datetime.strptime(input_date, '%d/%m/%Y')\n",
        "# Print the date:\n",
        "print(\"Date: \", date_formatted)"
      ],
      "execution_count": 35,
      "outputs": [
        {
          "output_type": "stream",
          "name": "stdout",
          "text": [
            "Enter date in dd/mm/yyyy format: 10/06/1989\n",
            "Date:  1989-06-10 00:00:00\n"
          ]
        }
      ]
    },
    {
      "cell_type": "markdown",
      "metadata": {
        "id": "WzkRCuNYZOnp"
      },
      "source": [
        "Question 7: Type cast the interger 1.8 into a string and print the result."
      ]
    },
    {
      "cell_type": "code",
      "metadata": {
        "id": "tv7dzZX2YdFH",
        "colab": {
          "base_uri": "https://localhost:8080/"
        },
        "outputId": "95dbce7f-04e6-44db-8121-f31db3e6eb43"
      },
      "source": [
        "# Store the interger as a varaible:\n",
        "num = 1.8\n",
        "# Typecast the integer:\n",
        "str_num = str(num)\n",
        "# Print the result:\n",
        "print(str_num)"
      ],
      "execution_count": 6,
      "outputs": [
        {
          "output_type": "stream",
          "name": "stdout",
          "text": [
            "1.8\n"
          ]
        }
      ]
    },
    {
      "cell_type": "markdown",
      "metadata": {
        "id": "IP5LMF00bATM"
      },
      "source": [
        "Question 8: Find the product of two numbers input by the user."
      ]
    },
    {
      "cell_type": "code",
      "metadata": {
        "id": "_REzzqdwa3Gp",
        "colab": {
          "base_uri": "https://localhost:8080/"
        },
        "outputId": "1d02323f-a04b-4737-dcc4-25ff88004c1e"
      },
      "source": [
        "# Take input of the first number and store it in a variable:\n",
        "first_num = int(input(\"Enter First Number: \"))\n",
        "# Take input of the second number and store it in a variable:\n",
        "second_num = int(input(\"Enter Second Number: \"))\n",
        "# You will need to typecast the input strings into integers\n",
        "# Calculate the product:\n",
        "product = first_num * second_num\n",
        "# Print the result:\n",
        "print(\"Product: \", product)"
      ],
      "execution_count": 8,
      "outputs": [
        {
          "output_type": "stream",
          "name": "stdout",
          "text": [
            "Enter First Number: 65\n",
            "Enter Second Number: 54\n",
            "Product:  3510\n"
          ]
        }
      ]
    },
    {
      "cell_type": "markdown",
      "metadata": {
        "id": "041d-OjCcXt9"
      },
      "source": [
        "Question 9: Calculate the remainder of the number 6 when divided by the number 4."
      ]
    },
    {
      "cell_type": "code",
      "metadata": {
        "id": "rLigN9eFb1JT"
      },
      "source": [
        "# Find the modulus and print the result:"
      ],
      "execution_count": 9,
      "outputs": []
    },
    {
      "cell_type": "code",
      "source": [
        "remainder = 6%4\n",
        "print(\"Remainder:\", remainder)"
      ],
      "metadata": {
        "colab": {
          "base_uri": "https://localhost:8080/"
        },
        "id": "RYRN8Tli8ksX",
        "outputId": "ac699721-9e72-4ca1-f95f-bdd7e94efa81"
      },
      "execution_count": 12,
      "outputs": [
        {
          "output_type": "stream",
          "name": "stdout",
          "text": [
            "Remainder: 2\n"
          ]
        }
      ]
    },
    {
      "cell_type": "markdown",
      "metadata": {
        "id": "xyFL6iLUczpm"
      },
      "source": [
        "Question 10: Solve the error in code below and print the correct result."
      ]
    },
    {
      "cell_type": "code",
      "metadata": {
        "id": "DX_mc1H8cyRC",
        "colab": {
          "base_uri": "https://localhost:8080/"
        },
        "outputId": "60fd630d-b717-4ec1-cc95-733b831c3986"
      },
      "source": [
        "# Given:\n",
        "print('I can\\'t study any longer')\n",
        "\n",
        "# Corrected solution:"
      ],
      "execution_count": 13,
      "outputs": [
        {
          "output_type": "stream",
          "name": "stdout",
          "text": [
            "I can't study any longer\n"
          ]
        }
      ]
    },
    {
      "cell_type": "markdown",
      "metadata": {
        "id": "MsVRoye5daZG"
      },
      "source": [
        "Question 11: Print the following statement using only 1 print statement:\n",
        "\n",
        "Hello\n",
        "\n",
        "Good Morning"
      ]
    },
    {
      "cell_type": "code",
      "metadata": {
        "id": "PqnV_g10dOzS",
        "colab": {
          "base_uri": "https://localhost:8080/"
        },
        "outputId": "6ebf75ee-4aa8-42e7-cf89-825c45fb4eb6"
      },
      "source": [
        "# Print the required statement:\\\n",
        "print(\"Hello \\n\\nGood Morning\")"
      ],
      "execution_count": 15,
      "outputs": [
        {
          "output_type": "stream",
          "name": "stdout",
          "text": [
            "Hello \n",
            "\n",
            "Good Morning\n"
          ]
        }
      ]
    },
    {
      "cell_type": "markdown",
      "metadata": {
        "id": "r8xXSTHRd5RT"
      },
      "source": [
        "Question 12: Concatenate the given strings and print the result:\n"
      ]
    },
    {
      "cell_type": "code",
      "metadata": {
        "id": "PuwSE5uidy24",
        "colab": {
          "base_uri": "https://localhost:8080/"
        },
        "outputId": "8b2dfa5c-878a-4255-a0c6-dc809f141b89"
      },
      "source": [
        "# Given below are the two strings:\n",
        "string1= 'Welcome to upgrad'\n",
        "string2= 'coding practice session.'\n",
        "\n",
        "# Concatenate and print the result:\n",
        "print(string1 + \" \" + string2)"
      ],
      "execution_count": 17,
      "outputs": [
        {
          "output_type": "stream",
          "name": "stdout",
          "text": [
            "Welcome to upgrad coding practice session.\n"
          ]
        }
      ]
    },
    {
      "cell_type": "markdown",
      "metadata": {
        "id": "QpkUZwCsefdt"
      },
      "source": [
        "Question 13: Find the length of string given below and print the result.\n"
      ]
    },
    {
      "cell_type": "code",
      "metadata": {
        "id": "24Am9RaseEXP",
        "colab": {
          "base_uri": "https://localhost:8080/"
        },
        "outputId": "f3e371d1-521e-4153-d694-178e5167305a"
      },
      "source": [
        "# Given below is the string:\n",
        "string = input(\"Enter the string: \")\n",
        "# Calculate and print the length:\n",
        "print(\"Length:\", len(string))"
      ],
      "execution_count": 18,
      "outputs": [
        {
          "output_type": "stream",
          "name": "stdout",
          "text": [
            "Enter the stringjust testing\n",
            "Length: 12\n"
          ]
        }
      ]
    },
    {
      "cell_type": "markdown",
      "metadata": {
        "id": "KoVEaa4QfMb_"
      },
      "source": [
        "Question 14: Create a string of length=10. Obtain the fifth and seventh character of the string. Concatenate the characters and form a new string. Print the new string."
      ]
    },
    {
      "cell_type": "code",
      "metadata": {
        "id": "U-356eSce6UM",
        "colab": {
          "base_uri": "https://localhost:8080/"
        },
        "outputId": "e83f1651-f0d4-4c83-e905-870db4f25b82"
      },
      "source": [
        "# Create a string of length 10:\n",
        "string = input(\"Enter string of length 10: \")\n",
        "# You can verify the length:\n",
        "print(len(string) == 10)\n",
        "# Obtain the fifth letter and store it into a new string:\n",
        "print(\"Fifth Letter: \", string[4])\n",
        "# Obtain the seventh letter and store it into a new string:\n",
        "print(\"Seventh Letter: \", string[6])\n",
        "# Concatenate the two strings:\n",
        "string1 = input(\"Enter first string: \")\n",
        "string2 = input(\"Enter second string: \")\n",
        "stringcat = string1 + \" \" + string2\n",
        "# Print the result:\n",
        "print(stringcat)"
      ],
      "execution_count": 19,
      "outputs": [
        {
          "output_type": "stream",
          "name": "stdout",
          "text": [
            "Enter string of length 10: just testing\n",
            "False\n",
            "Fifth Letter:   \n",
            "Seventh Letter:  e\n",
            "Enter first string: just\n",
            "Enter second string: Testing\n",
            "just Testing\n"
          ]
        }
      ]
    },
    {
      "cell_type": "markdown",
      "metadata": {
        "id": "-9wQ6PQtzNi3"
      },
      "source": [
        "Question 15: Given below is a string. Perform the following operations and print the results:\n",
        "1. Remove the extra spaces from the string and print the new string.\n",
        "2. Find the length of new string\n",
        "3. Remove the last 5 characters of the new string\n",
        "4. Find the 15th character of the new string\n",
        "5. Compute the result of concatenation of the first and last letter of the new string.\n"
      ]
    },
    {
      "cell_type": "code",
      "metadata": {
        "id": "T9GOWY_JyErD",
        "colab": {
          "base_uri": "https://localhost:8080/"
        },
        "outputId": "e744bad3-b9d6-4cc9-f1d1-f705bfcbb764"
      },
      "source": [
        "# Given below is the string:\n",
        "line= '     I hope you enjoyed this practice session.'\n",
        "\n",
        "# Removing extra spaces:\n",
        "line = line.lstrip().rstrip()\n",
        "# Print the result:\n",
        "print(line)\n",
        "# Calculate the length:\n",
        "length = len(line)\n",
        "# Slice the string to remove the last 5 characters:\n",
        "line_slice_last_5 = line[0:length-5]\n",
        "# Print the result:\n",
        "print(line_slice_last_5)\n",
        "# Print the 15th character of the string:\n",
        "print(line_slice_last_5[14])\n",
        "# Print the concatenation of first and last character of resulting string:\n",
        "print(line_slice_last_5[0]+line_slice_last_5[-1])"
      ],
      "execution_count": 23,
      "outputs": [
        {
          "output_type": "stream",
          "name": "stdout",
          "text": [
            "I hope you enjoyed this practice session.\n",
            "I hope you enjoyed this practice ses\n",
            "o\n",
            "Is\n"
          ]
        }
      ]
    }
  ]
}